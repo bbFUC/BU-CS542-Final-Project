{
 "cells": [
  {
   "cell_type": "code",
   "execution_count": null,
   "metadata": {},
   "outputs": [],
   "source": [
    "from tkinter import *\n",
    "\n",
    "canvas_width = 500\n",
    "canvas_height = 500\n",
    "\n",
    "def paint( event ):\n",
    "   python_green = \"#476042\"\n",
    "   x1, y1 = ( event.x - 1 ), ( event.y - 1 )\n",
    "   x2, y2 = ( event.x + 1 ), ( event.y + 1 )\n",
    "   w.create_oval( x1, y1, x2, y2, fill = python_green )\n",
    "\n",
    "master = Tk()\n",
    "master.title( \"QuickDraw Toy\" )\n",
    "w = Canvas(master, \n",
    "           width=canvas_width, \n",
    "           height=canvas_height)\n",
    "w.pack(expand = YES, fill = BOTH)\n",
    "w.bind( \"<B1-Motion>\", paint )\n",
    "\n",
    "message = Label( master, text = \"Draw your doodle\" )\n",
    "message.pack( side = BOTTOM )\n",
    "    \n",
    "mainloop()"
   ]
  }
 ],
 "metadata": {
  "kernelspec": {
   "display_name": "Python 3",
   "language": "python",
   "name": "python3"
  },
  "language_info": {
   "codemirror_mode": {
    "name": "ipython",
    "version": 3
   },
   "file_extension": ".py",
   "mimetype": "text/x-python",
   "name": "python",
   "nbconvert_exporter": "python",
   "pygments_lexer": "ipython3",
   "version": "3.6.1"
  }
 },
 "nbformat": 4,
 "nbformat_minor": 2
}
